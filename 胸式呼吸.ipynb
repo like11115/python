{
 "cells": [
  {
   "cell_type": "code",
   "execution_count": 76,
   "id": "842db1d1",
   "metadata": {},
   "outputs": [],
   "source": [
    "import neurokit2 as nk\n",
    "import numpy as np\n",
    "import pandas as pd\n",
    "import matplotlib.pyplot as plt\n",
    "import warnings\n",
    "#警告隱藏\n",
    "warnings.filterwarnings(\"ignore\")"
   ]
  },
  {
   "cell_type": "code",
   "execution_count": 47,
   "id": "19004bf5",
   "metadata": {},
   "outputs": [],
   "source": [
    "#胸之呼吸"
   ]
  },
  {
   "cell_type": "code",
   "execution_count": null,
   "id": "bfec5462",
   "metadata": {},
   "outputs": [],
   "source": []
  },
  {
   "cell_type": "code",
   "execution_count": 77,
   "id": "b97c9a72",
   "metadata": {},
   "outputs": [],
   "source": [
    "data = []\n",
    "for i in range(1, 31):\n",
    "    filename = f\"P1-V{i}.csv\"\n",
    "    data.append(pd.read_csv(filename))\n",
    "\n",
    "rsp_chest = [data[i][\"D: Resp\"] for i in range(30)]\n",
    "\n",
    "# nk.signal_plot(rsp_chest[0], sampling_rate=16)\n",
    "\n",
    "cleaned_chest = [nk.rsp_clean(rsp_chest[i], sampling_rate=16) for i in range (30)]"
   ]
  },
  {
   "cell_type": "code",
   "execution_count": 78,
   "id": "83124d75",
   "metadata": {},
   "outputs": [],
   "source": [
    "df_list = []\n",
    "peaks_dicts = []\n",
    "\n",
    "for i in range (30):\n",
    "    df, peaks_dict = nk.rsp_peaks(cleaned_chest[i])\n",
    "    df_list.append(df)\n",
    "    peaks_dicts.append(peaks_dict)\n",
    "    \n",
    "info = [nk.rsp_fixpeaks(peaks_dict) for peaks_dict in peaks_dicts]\n",
    "\n",
    "formatted = [nk.signal_formatpeaks(info[i], desired_length=len(cleaned_chest[i]),peak_indices=info[i][\"RSP_Peaks\"]) for i in range (30)]\n"
   ]
  },
  {
   "cell_type": "code",
   "execution_count": 79,
   "id": "9683f451",
   "metadata": {},
   "outputs": [],
   "source": [
    "info_list = []\n",
    "event_list = []\n",
    "epochs_list = []\n",
    "df_list2 = []\n",
    "result_list = []\n",
    "\n",
    "for i in range (30):\n",
    "    df, info = nk.bio_process(rsp= data[i][\"D: Resp\"], sampling_rate=16)\n",
    "    df_list2.append(df)\n",
    "    info_list.append(info)\n",
    "    \n",
    "    event = nk.events_find(data[i][\"participant\"], threshold_keep='below')\n",
    "    event_list.append(event)\n",
    "    \n",
    "    epoch = nk.epochs_create(df_list2[i], event_list[i], sampling_rate=16)\n",
    "    epochs_list.append(epoch)\n"
   ]
  },
  {
   "cell_type": "code",
   "execution_count": 80,
   "id": "a13c0cff",
   "metadata": {},
   "outputs": [],
   "source": [
    "#圖片避難區\n",
    "nk.signal_plot(pd.DataFrame({\"RSP_Raw\":rsp_chest[0], \"RSP_Clean\": cleaned_chest[0]}), sampling_rate=16, subplots=True)\n",
    "Chest_peaks = nk.events_plot(peaks_dicts[0]['RSP_Peaks'], cleaned_chest[0])\n",
    "# Extract rate\n",
    "rsp_chest_rate = nk.rsp_rate(cleaned_chest[0], peaks_dicts[0], sampling_rate=16)\n",
    "\n",
    "# Visualize\n",
    "nk.signal_plot(rsp_chest_rate, sampling_rate=16)\n",
    "plt.ylabel('Breaths Per Minute')\n",
    "\n",
    "rrv = nk.rsp_rrv(rsp_chest_rate, info_list[0], sampling_rate=16, show=True) #傅立葉分析\n",
    "#需要看圖片把下面這一行刪掉\n",
    "plt.close('all')"
   ]
  },
  {
   "cell_type": "code",
   "execution_count": 81,
   "id": "5449507c",
   "metadata": {},
   "outputs": [
    {
     "name": "stdout",
     "output_type": "stream",
     "text": [
      "幹!epochs_list[22]出錯了，跳過跳過，csv中第23行下面原本需要另一個資料\n",
      "幹!epochs_list[23]出錯了，跳過跳過，csv中第24行下面原本需要另一個資料\n"
     ]
    }
   ],
   "source": [
    "result_list = []\n",
    "\n",
    "for i in range(30):\n",
    "    try:\n",
    "        result = nk.rsp_eventrelated(epochs_list[i])\n",
    "        result_list.append(result)\n",
    "    except:\n",
    "        print(f\"幹!epochs_list[{i}]出錯了，跳過跳過，csv中第{i+1}行下面原本需要另一個資料\")"
   ]
  },
  {
   "cell_type": "code",
   "execution_count": 82,
   "id": "1a1634b3",
   "metadata": {},
   "outputs": [],
   "source": [
    "result_df = pd.concat(result_list, axis=0)\n",
    "result_df.to_csv(\"P1_胸式呼吸_謝謝冠哲.csv\", index=False)"
   ]
  },
  {
   "cell_type": "code",
   "execution_count": null,
   "id": "491bba88",
   "metadata": {},
   "outputs": [],
   "source": []
  }
 ],
 "metadata": {
  "kernelspec": {
   "display_name": "Python 3 (ipykernel)",
   "language": "python",
   "name": "python3"
  },
  "language_info": {
   "codemirror_mode": {
    "name": "ipython",
    "version": 3
   },
   "file_extension": ".py",
   "mimetype": "text/x-python",
   "name": "python",
   "nbconvert_exporter": "python",
   "pygments_lexer": "ipython3",
   "version": "3.8.13"
  }
 },
 "nbformat": 4,
 "nbformat_minor": 5
}
