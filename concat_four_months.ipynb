{
 "cells": [
  {
   "cell_type": "code",
   "execution_count": 1,
   "id": "5b219e1c",
   "metadata": {},
   "outputs": [],
   "source": [
    "import pandas as pd\n",
    "import os \n",
    "from tqdm import tqdm"
   ]
  },
  {
   "cell_type": "code",
   "execution_count": 2,
   "id": "f7a3759c",
   "metadata": {},
   "outputs": [
    {
     "name": "stderr",
     "output_type": "stream",
     "text": [
      "100%|██████████| 5/5 [01:36<00:00, 19.40s/it]\n"
     ]
    },
    {
     "name": "stdout",
     "output_type": "stream",
     "text": [
      "File|13_checked_worng.xlsx not found. Skipping...\n"
     ]
    },
    {
     "name": "stderr",
     "output_type": "stream",
     "text": [
      "100%|██████████| 5/5 [01:45<00:00, 21.11s/it]"
     ]
    },
    {
     "name": "stdout",
     "output_type": "stream",
     "text": [
      "File|13_checked_correct.xlsx not found. Skipping...\n"
     ]
    },
    {
     "name": "stderr",
     "output_type": "stream",
     "text": [
      "\n"
     ]
    }
   ],
   "source": [
    "data = []\n",
    "data2 = []\n",
    "for i in tqdm(range(9,14)):\n",
    "    f_name = f\"{i}_checked_worng.xlsx\"    \n",
    "    try:\n",
    "        df = pd.read_excel(f_name)\n",
    "        data.append(df)\n",
    "    except FileNotFoundError:\n",
    "        print(f\"File|{f_name} not found. Skipping...\")\n",
    "        continue\n",
    "for i in tqdm(range(9,14)):\n",
    "    f_name = f\"{i}_checked_correct.xlsx\"    \n",
    "    try:\n",
    "        df = pd.read_excel(f_name)\n",
    "        data2.append(df)\n",
    "    except FileNotFoundError:\n",
    "        print(f\"File|{f_name} not found. Skipping...\")\n",
    "        continue"
   ]
  },
  {
   "cell_type": "code",
   "execution_count": 3,
   "id": "592cc4e6",
   "metadata": {},
   "outputs": [],
   "source": [
    "output = pd.concat(data, axis=0, ignore_index=False)\n",
    "output.to_excel(\"wrong.xlsx\", index=False)\n",
    "output2 = pd.concat(data2, axis=0, ignore_index=False)\n",
    "output2.to_excel(\"correct.xlsx\", index=False)"
   ]
  },
  {
   "cell_type": "code",
   "execution_count": null,
   "id": "90cf18f7",
   "metadata": {},
   "outputs": [],
   "source": []
  }
 ],
 "metadata": {
  "kernelspec": {
   "display_name": "Python 3 (ipykernel)",
   "language": "python",
   "name": "python3"
  },
  "language_info": {
   "codemirror_mode": {
    "name": "ipython",
    "version": 3
   },
   "file_extension": ".py",
   "mimetype": "text/x-python",
   "name": "python",
   "nbconvert_exporter": "python",
   "pygments_lexer": "ipython3",
   "version": "3.8.13"
  }
 },
 "nbformat": 4,
 "nbformat_minor": 5
}
