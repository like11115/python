{
 "cells": [
  {
   "cell_type": "code",
   "execution_count": 11,
   "id": "6f34809b",
   "metadata": {},
   "outputs": [],
   "source": [
    "import numpy as np\n",
    "import pandas as pd\n",
    "from tqdm import tqdm #視覺化進度用"
   ]
  },
  {
   "cell_type": "code",
   "execution_count": 59,
   "id": "b04175db",
   "metadata": {},
   "outputs": [],
   "source": [
    "main_excel_path = '12_merged.xlsx'\n",
    "main_df = pd.read_excel(main_excel_path, header=0)"
   ]
  },
  {
   "cell_type": "code",
   "execution_count": 60,
   "id": "5d247504",
   "metadata": {},
   "outputs": [],
   "source": [
    "main_df['生產線別'].fillna(method='ffill', inplace=True)"
   ]
  },
  {
   "cell_type": "code",
   "execution_count": 61,
   "id": "0f745c98",
   "metadata": {},
   "outputs": [
    {
     "name": "stdout",
     "output_type": "stream",
     "text": [
      "           生產線別        生產日期                單號  序號 製程代號    製程名稱      使用人時  \\\n",
      "0      BISON-01  2022-12-01  D402-20221200005   1  A01      裁線  00:01:31   \n",
      "1      BISON-01  2022-12-01  D402-20221200287   2  A01      裁線  00:01:03   \n",
      "2      BISON-01  2022-12-01  D402-20221200291   2  A01      裁線  00:01:04   \n",
      "3      BISON-01  2022-12-01  D402-20221200297   2  A01      裁線  00:03:16   \n",
      "4      BISON-01  2022-12-01  D402-20221200303   2  A01      裁線  00:01:28   \n",
      "...         ...         ...               ...  ..  ...     ...       ...   \n",
      "37389  BISON-31  2022-12-21  D402-20221224801   1  A09  外觀檢查-2  00:08:10   \n",
      "37390  BISON-31  2022-12-21  D402-20221224471   1  A10  量測(綁線)  00:08:01   \n",
      "37391  BISON-31  2022-12-21  D402-20221225191   1  A12      電測  00:03:58   \n",
      "37392  BISON-31  2022-12-22  D402-20221226072   1  A13      巡檢  00:03:36   \n",
      "37393  BISON-31  2022-12-27  D402-20221230631   1  A14      包裝  00:00:10   \n",
      "\n",
      "       預計產量     使用人時1      使用機時  ...                          產品品號  \\\n",
      "0        13  00:00:07  00:00:00  ...          8MT008-Z051-00629-01   \n",
      "1         3  00:00:21  00:00:00  ...  8MT049-Z77-633-0602129-A0S_C   \n",
      "2         3  00:00:21  00:00:00  ...  8MT049-Z77-633-060212F-A0S_C   \n",
      "3         4  00:00:49  00:00:00  ...         8MT007-C0090-71365-02   \n",
      "4         1  00:01:28  00:00:00  ...            8MT222-G0140-23691   \n",
      "...     ...       ...       ...  ...                           ...   \n",
      "37389     1  00:08:10  00:00:00  ...     8MT049-Z77-644-1108213-01   \n",
      "37390     1  00:08:01  00:00:00  ...     8MT049-Z77-644-1108213-01   \n",
      "37391     1  00:03:58  00:00:00  ...     8MT049-Z77-644-1108213-01   \n",
      "37392     1  00:03:36  00:00:00  ...     8MT049-Z77-644-1108213-01   \n",
      "37393     1  00:00:10  00:00:00  ...     8MT049-Z77-644-1108213-01   \n",
      "\n",
      "                     產品品名                                    產品規格  單位 包裝單位  \\\n",
      "0            051-00629-01                                     NaN  PC  NaN   \n",
      "1      77-633-0602129-A0S                                     NaN  PC  NaN   \n",
      "2      77-633-060212F-A0S                                     NaN  PC  NaN   \n",
      "3           0090-71365-02  SNSR SAAY LDLK ALGNR CYLNDRPSTN 20KTFE  PC  NaN   \n",
      "4              0140-23691                                     NaN  PC  NaN   \n",
      "...                   ...                                     ...  ..  ...   \n",
      "37389   77-644-1108213-01                                     NaN  PC  NaN   \n",
      "37390   77-644-1108213-01                                     NaN  PC  NaN   \n",
      "37391   77-644-1108213-01                                     NaN  PC  NaN   \n",
      "37392   77-644-1108213-01                                     NaN  PC  NaN   \n",
      "37393   77-644-1108213-01                                     NaN  PC  NaN   \n",
      "\n",
      "       備註   員工代號  員工姓名 機台代號 機台名稱  \n",
      "0     NaN  F0014   布萊恩  NaN  NaN  \n",
      "1     NaN  F0022    喬比  NaN  NaN  \n",
      "2     NaN  F0022    喬比  NaN  NaN  \n",
      "3     NaN  F0022    喬比  NaN  NaN  \n",
      "4     NaN  F0022    喬比  NaN  NaN  \n",
      "...    ..    ...   ...  ...  ...  \n",
      "37389 NaN  B0164   周佳裕  NaN  NaN  \n",
      "37390 NaN  F0011    唐諾  NaN  NaN  \n",
      "37391 NaN  B0236   李煥銘  NaN  NaN  \n",
      "37392 NaN  B0245   邱雅芳  NaN  NaN  \n",
      "37393 NaN  B0160   莊淑蓉  NaN  NaN  \n",
      "\n",
      "[37394 rows x 22 columns]\n"
     ]
    }
   ],
   "source": [
    "print(main_df)"
   ]
  },
  {
   "cell_type": "code",
   "execution_count": 62,
   "id": "e81b6e7b",
   "metadata": {},
   "outputs": [],
   "source": [
    "main_df.to_excel('12_merged_2.xlsx', index = False)"
   ]
  },
  {
   "cell_type": "code",
   "execution_count": null,
   "id": "cf2692f4",
   "metadata": {},
   "outputs": [],
   "source": []
  }
 ],
 "metadata": {
  "kernelspec": {
   "display_name": "Python 3 (ipykernel)",
   "language": "python",
   "name": "python3"
  },
  "language_info": {
   "codemirror_mode": {
    "name": "ipython",
    "version": 3
   },
   "file_extension": ".py",
   "mimetype": "text/x-python",
   "name": "python",
   "nbconvert_exporter": "python",
   "pygments_lexer": "ipython3",
   "version": "3.8.13"
  }
 },
 "nbformat": 4,
 "nbformat_minor": 5
}
