{
 "cells": [
  {
   "cell_type": "code",
   "execution_count": 1,
   "id": "28c3c75e",
   "metadata": {},
   "outputs": [],
   "source": [
    "import pandas as pd"
   ]
  },
  {
   "cell_type": "code",
   "execution_count": 2,
   "id": "bc611a59",
   "metadata": {},
   "outputs": [],
   "source": [
    "df = pd.read_csv('前側受測者心率分析_去除P9_V24.csv')"
   ]
  },
  {
   "cell_type": "code",
   "execution_count": 3,
   "id": "9f34d5f9",
   "metadata": {},
   "outputs": [],
   "source": [
    "df = df.set_index(['participant', 'video'])"
   ]
  },
  {
   "cell_type": "code",
   "execution_count": 17,
   "id": "9b4bb4bc",
   "metadata": {},
   "outputs": [],
   "source": [
    "grouped = df.groupby(level=['participant', 'video'])['Heart_rate'].agg(['mean', 'std'])\n",
    "grouped.columns = ['average_heart rate', 'SD_heart rate']\n",
    "grouped = grouped.rename(index=lambda x: f'P{x}', level=0)\n",
    "grouped = grouped.rename(index=lambda x: f'V{x}', level=1)\n",
    "grouped = grouped.reset_index()\n",
    "grouped.to_excel('我也好想出去玩.xlsx', index=False)\n"
   ]
  },
  {
   "cell_type": "code",
   "execution_count": 18,
   "id": "ca7b2f33",
   "metadata": {
    "scrolled": false
   },
   "outputs": [
    {
     "name": "stdout",
     "output_type": "stream",
     "text": [
      "    participant video  average_heart rate  SD_heart rate\n",
      "0            P1    V1           82.654636       5.279644\n",
      "1            P1    V2           90.267192      29.286357\n",
      "2            P1    V3           80.395775      13.761702\n",
      "3            P1    V4           78.184574       7.288861\n",
      "4            P1    V5           76.637879       7.088705\n",
      "..          ...   ...                 ...            ...\n",
      "223         P11   V26           81.269436      10.248558\n",
      "224         P11   V27           80.968680      10.280176\n",
      "225         P11   V28           80.941438      10.551506\n",
      "226         P11   V29           80.701575      10.740720\n",
      "227         P11   V30           80.603790      10.744615\n",
      "\n",
      "[228 rows x 4 columns]\n"
     ]
    }
   ],
   "source": [
    "print(grouped)"
   ]
  },
  {
   "cell_type": "code",
   "execution_count": null,
   "id": "2978c0d6",
   "metadata": {},
   "outputs": [],
   "source": []
  }
 ],
 "metadata": {
  "kernelspec": {
   "display_name": "Python 3 (ipykernel)",
   "language": "python",
   "name": "python3"
  },
  "language_info": {
   "codemirror_mode": {
    "name": "ipython",
    "version": 3
   },
   "file_extension": ".py",
   "mimetype": "text/x-python",
   "name": "python",
   "nbconvert_exporter": "python",
   "pygments_lexer": "ipython3",
   "version": "3.8.13"
  }
 },
 "nbformat": 4,
 "nbformat_minor": 5
}
