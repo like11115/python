{
 "cells": [
  {
   "cell_type": "code",
   "execution_count": 1,
   "id": "5378ceb3",
   "metadata": {},
   "outputs": [],
   "source": [
    "import numpy as np\n",
    "import pandas as pd\n",
    "\n",
    "from tqdm import tqdm\n",
    "\n",
    "import datetime"
   ]
  },
  {
   "cell_type": "code",
   "execution_count": 2,
   "id": "b92ced3b",
   "metadata": {},
   "outputs": [],
   "source": [
    "def convert_mean_seconds(mean_seconds):\n",
    "        \n",
    "    H = int(mean_seconds) // 3600\n",
    "    M = (int(mean_seconds) - H * 3600) // 60\n",
    "    S = int(mean_seconds) - H * 3600 - M * 60\n",
    "    \n",
    "    if len(str(H)) > 1:\n",
    "        H = str(H)\n",
    "    else:\n",
    "        H = '0' + str(H)\n",
    "    \n",
    "    if len(str(M)) > 1:\n",
    "        M = str(M)\n",
    "    else:\n",
    "        M = '0' + str(M)\n",
    "    \n",
    "    if len(str(S)) > 1:\n",
    "        S = str(S)\n",
    "    else:\n",
    "        S = '0' + str(S)\n",
    "    \n",
    "    \n",
    "    return f'{H}:{M}:{S}'"
   ]
  },
  {
   "cell_type": "code",
   "execution_count": 4,
   "id": "39dba816",
   "metadata": {},
   "outputs": [],
   "source": [
    "# load excel\n",
    "\n",
    "main_excel_path = 'SFT 2022-10.xlsx'\n",
    "reference_excel_path = '202209-12 製令排程.xlsx'\n",
    "main_df = pd.read_excel(main_excel_path, header = 2)#表頭為2 從第三行開始讀數據\n",
    "ref_df = pd.read_excel(reference_excel_path)\n",
    "main_df.columns = main_df.loc[1, :]#從第貳行當作行名"
   ]
  },
  {
   "cell_type": "code",
   "execution_count": 5,
   "id": "838d91eb",
   "metadata": {},
   "outputs": [],
   "source": [
    "# delete the row of '小計' \n",
    "delete_index_list = main_df[main_df['製程名稱'] == '小        計  ：'].index\n",
    "#delete_index_list變數，尋找名稱為製程名稱的欄位當中值為小計的行\n",
    "main_df = main_df.drop(delete_index_list)\n",
    "#drop掉"
   ]
  },
  {
   "cell_type": "code",
   "execution_count": 6,
   "id": "c8906180",
   "metadata": {},
   "outputs": [
    {
     "name": "stderr",
     "output_type": "stream",
     "text": [
      "100%|██████████| 34529/34529 [00:05<00:00, 6885.16it/s]\n"
     ]
    }
   ],
   "source": [
    "#  add new column '生產線別'\n",
    "main_df['生產線別'] = ''\n",
    "\n",
    "production_line_index_list = []\n",
    "for index in tqdm(main_df.index):\n",
    "    \n",
    "    temp_str = main_df.loc[index, '生產日期']\n",
    "    \n",
    "    if temp_str == '生產線別：':\n",
    "        temp_production_line = main_df.loc[index, '單號']\n",
    "        production_line_index_list.append(index)\n",
    "        \n",
    "        continue\n",
    "    \n",
    "    elif temp_str == '生產日期':\n",
    "        production_line_index_list.append(index)\n",
    "        \n",
    "        continue\n",
    "    \n",
    "    main_df.loc[index, '生產線別'] = temp_production_line\n",
    "        \n",
    "main_df = main_df.drop(production_line_index_list)"
   ]
  },
  {
   "cell_type": "code",
   "execution_count": 7,
   "id": "ae9466a0",
   "metadata": {},
   "outputs": [
    {
     "name": "stderr",
     "output_type": "stream",
     "text": [
      "100%|██████████| 34519/34519 [01:06<00:00, 518.28it/s]\n"
     ]
    }
   ],
   "source": [
    "#  add new column '預計產量'\n",
    "main_df['預計產量'] = 0\n",
    "\n",
    "for index in tqdm(main_df.index):\n",
    "    \n",
    "    temp_order = main_df.loc[index, '製令編號']\n",
    "    \n",
    "    estimated_output = ref_df[ref_df['製令單號\\nMO No'] == temp_order]['預計產量\\nQty']\n",
    "    \n",
    "    if estimated_output.values.size == 0:\n",
    "        continue\n",
    "    elif np.isnan(estimated_output.values[0]):\n",
    "        continue\n",
    "    else:\n",
    "        main_df.loc[index, '預計產量'] = str(int(estimated_output.values[0]))"
   ]
  },
  {
   "cell_type": "code",
   "execution_count": 8,
   "id": "1e0c1516",
   "metadata": {},
   "outputs": [
    {
     "name": "stderr",
     "output_type": "stream",
     "text": [
      "100%|██████████| 31270/31270 [02:25<00:00, 215.18it/s]\n"
     ]
    }
   ],
   "source": [
    "#  add new column '人工用時1'\n",
    "#測試用\n",
    "main_df['使用人時1'] = 'time'\n",
    "\n",
    "order_list = np.unique(main_df.loc[:, '單號'])\n",
    "\n",
    "delete_index_list = []\n",
    "\n",
    "for i_order in tqdm(order_list):\n",
    "    \n",
    "    temp_df = main_df[main_df['單號'] == i_order]\n",
    "    temp_df = temp_df.sort_values(by=['單號'])\n",
    "    \n",
    "    timelist = [temp_df['使用人時'].values[0]]\n",
    "    total_time = datetime.timedelta()\n",
    "    serial_number = int(temp_df['序號'].values[0])\n",
    "    for i in timelist:\n",
    "        (h, m, s) = i.split(':')\n",
    "        d = datetime.timedelta(hours=int(h), minutes=int(m), seconds=int(s))\n",
    "        total_time += d\n",
    "    \n",
    "   #mean_time = total_time / len(timelist) * serial_number \n",
    "   #mean_seconds = convert_mean_seconds(mean_time.total_seconds())\n",
    "    if temp_df['預計產量'].values[0] == 0:\n",
    "        mean_seconds = '無預計產量，無法計算'\n",
    "    else:\n",
    "        estimated_time_per_product = total_time / len(timelist) * serial_number  / int(temp_df['預計產量'].values[0])\n",
    "        mean_seconds = convert_mean_seconds(estimated_time_per_product.total_seconds())\n",
    "    \n",
    "    main_df.loc[temp_df.index, '使用人時1'] = mean_seconds\n",
    "    \n",
    "    \n",
    "    if len(temp_df) > 1:\n",
    "        delete_index_list.append(temp_df.index[:-1].values[0])\n",
    "    \n",
    "main_df = main_df.drop(delete_index_list)"
   ]
  },
  {
   "cell_type": "code",
   "execution_count": 9,
   "id": "c4a093d5",
   "metadata": {},
   "outputs": [],
   "source": [
    "# rearrange order of columns\n",
    "\n",
    "columns_list = list(main_df.columns)\n",
    "\n",
    "columns_list.remove('生產線別')\n",
    "columns_list.remove('預計產量')\n",
    "columns_list.remove('使用人時1')\n",
    "\n",
    "target_poc = main_df.columns.get_loc('使用人時')\n",
    "\n",
    "columns_list.insert(target_poc + 1, '使用人時1')\n",
    "columns_list.insert(target_poc + 1, '預計產量')\n",
    "columns_list.insert(0, '生產線別')\n",
    "\n",
    "main_df = main_df[columns_list]\n",
    "\n",
    "\n",
    "for i_line in np.unique(main_df['生產線別']):\n",
    "    temp_df = main_df[main_df['生產線別'] == i_line]\n",
    "    main_df.loc[temp_df.index[1:], '生產線別'] = ''"
   ]
  },
  {
   "cell_type": "code",
   "execution_count": 10,
   "id": "a3c4dd2a",
   "metadata": {},
   "outputs": [],
   "source": [
    "main_df.to_excel('10_merged.xlsx', index = False)"
   ]
  },
  {
   "cell_type": "code",
   "execution_count": null,
   "id": "e0fcef28",
   "metadata": {},
   "outputs": [],
   "source": []
  },
  {
   "cell_type": "code",
   "execution_count": null,
   "id": "57a93532",
   "metadata": {},
   "outputs": [],
   "source": [
    "#  add new column '人工用時1'\n",
    "#  backup\n",
    "main_df['使用人時1'] = 'time'\n",
    "\n",
    "order_list = np.unique(main_df.loc[:, '單號'])\n",
    "\n",
    "delete_index_list = []\n",
    "\n",
    "i_order = 'D402-20221200287'\n",
    "for i_order in tqdm(order_list):\n",
    "    \n",
    "    temp_df = main_df[main_df['單號'] == i_order]\n",
    "    temp_df = temp_df.sort_values(by=['單號'])\n",
    "\n",
    "    total_time = datetime.timedelta()\n",
    "    (h, m, s) = temp_df['使用人時'].values[0].split(':')\n",
    "    d = datetime.timedelta(hours=int(h), minutes=int(m), seconds=int(s))\n",
    "    total_time += d\n",
    "    \n",
    "    if temp_df['預計產量'].values[0] == 0:\n",
    "        mean_seconds = '無預計產量，無法計算'\n",
    "    else:\n",
    "        estimated_time_per_product = (len(temp_df) * total_time) / int(temp_df['預計產量'].values[0])\n",
    "        mean_seconds = convert_mean_seconds(estimated_time_per_product.total_seconds())\n",
    "    \n",
    "    main_df.loc[temp_df.index, '使用人時1'] = mean_seconds\n",
    "    \n",
    "    ### \n",
    "    if len(temp_df) > 1:\n",
    "        delete_index_list.append(temp_df.index[:-1].values[0])\n",
    "    \n",
    "main_df = main_df.drop(delete_index_list)\n"
   ]
  }
 ],
 "metadata": {
  "kernelspec": {
   "display_name": "Python 3 (ipykernel)",
   "language": "python",
   "name": "python3"
  },
  "language_info": {
   "codemirror_mode": {
    "name": "ipython",
    "version": 3
   },
   "file_extension": ".py",
   "mimetype": "text/x-python",
   "name": "python",
   "nbconvert_exporter": "python",
   "pygments_lexer": "ipython3",
   "version": "3.8.13"
  }
 },
 "nbformat": 4,
 "nbformat_minor": 5
}
