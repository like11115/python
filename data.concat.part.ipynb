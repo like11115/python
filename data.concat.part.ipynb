{
 "cells": [
  {
   "cell_type": "code",
   "execution_count": 29,
   "id": "438d908b",
   "metadata": {},
   "outputs": [],
   "source": [
    "import pandas as pd\n",
    "import os "
   ]
  },
  {
   "cell_type": "code",
   "execution_count": 32,
   "id": "cbfd004e",
   "metadata": {},
   "outputs": [
    {
     "name": "stdout",
     "output_type": "stream",
     "text": [
      "1\n",
      "2\n",
      "3\n",
      "4\n",
      "5\n",
      "6\n",
      "7\n",
      "8\n",
      "9\n",
      "10\n",
      "11\n",
      "12\n",
      "13\n",
      "14\n",
      "15\n",
      "16\n",
      "17\n",
      "18\n",
      "19\n",
      "20\n",
      "21\n",
      "22\n",
      "23\n",
      "24\n",
      "25\n",
      "26\n",
      "27\n",
      "28\n",
      "29\n",
      "30\n"
     ]
    }
   ],
   "source": [
    "data = []\n",
    "path = \"C:/Users/like1/OneDrive/桌面/練蠱中心\" #路徑\n",
    "for x in range (1,31): \n",
    "    file = f\"P11_V{x}\"\n",
    "    files = [f for f in os.listdir(path) if f.startswith(file+\"-\")]\n",
    "    max_number = len(files)\n",
    "    for i in range(1,max_number+1):\n",
    "        f_name = file+f\"-{i}_heart rate.csv\"\n",
    "        data.append(pd.read_csv(f_name))\n",
    "        output = pd.concat(data, axis=0, ignore_index=False)\n",
    "        output.to_csv(file+\"_heart rate.csv\", index=False)\n",
    "    print(x)"
   ]
  },
  {
   "cell_type": "code",
   "execution_count": 33,
   "id": "a7d577c8",
   "metadata": {},
   "outputs": [],
   "source": [
    "total_length = 0\n",
    "for item in data:\n",
    "    total_length += len(item)\n",
    "if len(output)!= total_length:\n",
    "    print(f\"第{x}個檔案有問題\")"
   ]
  },
  {
   "cell_type": "markdown",
   "id": "2efea844",
   "metadata": {},
   "source": [
    "## 備用程式碼 我順便練習heading"
   ]
  },
  {
   "cell_type": "code",
   "execution_count": null,
   "id": "e8046722",
   "metadata": {},
   "outputs": [],
   "source": [
    "data = []\n",
    "for i in range(1,4):#記得+1\n",
    "    file = \"P1_V4\"\n",
    "    f_name = file+f\"-{i}_heart rate.csv\"\n",
    "    data.append(pd.read_csv(f_name))"
   ]
  }
 ],
 "metadata": {
  "kernelspec": {
   "display_name": "Python 3 (ipykernel)",
   "language": "python",
   "name": "python3"
  },
  "language_info": {
   "codemirror_mode": {
    "name": "ipython",
    "version": 3
   },
   "file_extension": ".py",
   "mimetype": "text/x-python",
   "name": "python",
   "nbconvert_exporter": "python",
   "pygments_lexer": "ipython3",
   "version": "3.8.13"
  }
 },
 "nbformat": 4,
 "nbformat_minor": 5
}
