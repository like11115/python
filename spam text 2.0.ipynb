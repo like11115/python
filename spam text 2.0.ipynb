{
 "cells": [
  {
   "cell_type": "code",
   "execution_count": 25,
   "id": "1440c611",
   "metadata": {},
   "outputs": [],
   "source": [
    "import time\n",
    "import os\n",
    "import pyautogui as pag\n",
    "import pyperclip"
   ]
  },
  {
   "cell_type": "code",
   "execution_count": 26,
   "id": "b9ff7f38",
   "metadata": {
    "scrolled": true
   },
   "outputs": [
    {
     "name": "stdout",
     "output_type": "stream",
     "text": [
      "Press Ctrl-C to end\n",
      "position:  323, 221\n",
      "Press Ctrl-C to end\n",
      "position: 1094, 713\n",
      "Press Ctrl-C to end\n",
      "position: 1126, 793\n",
      "Press Ctrl-C to end\n",
      "position: 1126, 793\n",
      "Press Ctrl-C to end\n",
      "position: 1094, 806\n",
      "Press Ctrl-C to end\n",
      "position:  743, 561\n",
      "Press Ctrl-C to end\n",
      "position:  375, 217\n",
      "end!\n"
     ]
    }
   ],
   "source": [
    "try:#測試 類似if判斷但不設條件\n",
    "    while True:#無限執行\n",
    "        print(\"Press Ctrl-C to end\")\n",
    "        x,y=pag.position()#滑鼠座標\n",
    "        pos = \"position: \"+str(x).rjust(4)+','+str(y).rjust(4)\n",
    "        print(pos)\n",
    "        time.sleep(1)#延遲幾秒\n",
    "        os.system('clear')#清除結果\n",
    "except KeyboardInterrupt: #手動停止 複製跟停止都是Ctrl-C 時會出現KeyboardInterrupt的錯誤except用於跳過此錯誤\n",
    "    print('end!')\n"
   ]
  },
  {
   "cell_type": "code",
   "execution_count": 27,
   "id": "99bb0e87",
   "metadata": {},
   "outputs": [],
   "source": [
    "list2=[]\n",
    "for i in range(1,200):\n",
    "    list2.append(f\"充電器{i}\")"
   ]
  },
  {
   "cell_type": "code",
   "execution_count": 29,
   "id": "26fef79d",
   "metadata": {},
   "outputs": [
    {
     "name": "stdout",
     "output_type": "stream",
     "text": [
      "end!\n"
     ]
    }
   ],
   "source": [
    "try:\n",
    "    time.sleep(5)\n",
    "    pag.click(1126, 793)  #滑鼠在座標上點擊\n",
    "    for line in list(list2):\n",
    "        if line:\n",
    "            pyperclip.copy(line)    #複製\n",
    "            pag.hotkey(\"ctrl\",\"v\") #貼上#hotkey=按下並用相反順序放開\n",
    "            pag.typewrite(\"\\n\")   #傳送\n",
    "            time.sleep(0.01) #間隔\n",
    "except KeyboardInterrupt: \n",
    "    print('end!')"
   ]
  }
 ],
 "metadata": {
  "kernelspec": {
   "display_name": "Python 3 (ipykernel)",
   "language": "python",
   "name": "python3"
  },
  "language_info": {
   "codemirror_mode": {
    "name": "ipython",
    "version": 3
   },
   "file_extension": ".py",
   "mimetype": "text/x-python",
   "name": "python",
   "nbconvert_exporter": "python",
   "pygments_lexer": "ipython3",
   "version": "3.8.13"
  }
 },
 "nbformat": 4,
 "nbformat_minor": 5
}
