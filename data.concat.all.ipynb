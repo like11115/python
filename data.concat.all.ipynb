{
 "cells": [
  {
   "cell_type": "code",
   "execution_count": 42,
   "id": "7a8c7ee8",
   "metadata": {},
   "outputs": [],
   "source": [
    "import pandas as pd\n",
    "import os "
   ]
  },
  {
   "cell_type": "code",
   "execution_count": 43,
   "id": "e6dd7351",
   "metadata": {},
   "outputs": [
    {
     "name": "stdout",
     "output_type": "stream",
     "text": [
      "File P11_V31_heart rate.csv not found. Skipping...\n"
     ]
    }
   ],
   "source": [
    "data = []\n",
    "path = \"C:/Users/like1/OneDrive/桌面/練蠱中心\" #路徑\n",
    "file = \"P11_\"\n",
    "files = [f for f in os.listdir(path) if f.startswith(file) and \"-\" not in f]\n",
    "max_number = len(files)\n",
    "for i in range(1,max_number+2):\n",
    "    f_name = file+f\"V{i}_heart rate.csv\"    \n",
    "    try:\n",
    "        df = pd.read_csv(f_name)\n",
    "        df[\"video\"] = i\n",
    "        data.append(df)\n",
    "    except FileNotFoundError:\n",
    "        print(f\"File {f_name} not found. Skipping...\")\n",
    "        continue\n",
    "    "
   ]
  },
  {
   "cell_type": "code",
   "execution_count": 44,
   "id": "838ebbb9",
   "metadata": {},
   "outputs": [],
   "source": [
    "output = pd.concat(data, axis=0, ignore_index=False)\n",
    "output.to_csv(file+\"heart-rate.csv\", index=False)"
   ]
  },
  {
   "cell_type": "code",
   "execution_count": 38,
   "id": "f3338994",
   "metadata": {},
   "outputs": [],
   "source": [
    "total_length = 0\n",
    "for item in data:\n",
    "    total_length += len(item)\n",
    "if len(output)!= total_length:\n",
    "    print(f\"第{x}個檔案有問題\")"
   ]
  },
  {
   "cell_type": "code",
   "execution_count": null,
   "id": "1b4801e3",
   "metadata": {},
   "outputs": [],
   "source": []
  }
 ],
 "metadata": {
  "kernelspec": {
   "display_name": "Python 3 (ipykernel)",
   "language": "python",
   "name": "python3"
  },
  "language_info": {
   "codemirror_mode": {
    "name": "ipython",
    "version": 3
   },
   "file_extension": ".py",
   "mimetype": "text/x-python",
   "name": "python",
   "nbconvert_exporter": "python",
   "pygments_lexer": "ipython3",
   "version": "3.8.13"
  }
 },
 "nbformat": 4,
 "nbformat_minor": 5
}
