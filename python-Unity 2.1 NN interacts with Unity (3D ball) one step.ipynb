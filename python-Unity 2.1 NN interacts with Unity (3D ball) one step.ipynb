{
 "cells": [
  {
   "cell_type": "code",
   "execution_count": 1,
   "id": "f49af58a",
   "metadata": {},
   "outputs": [],
   "source": [
    "import torch\n",
    "import numpy as np\n",
    "from mlagents_envs.environment import UnityEnvironment\n",
    "from mlagents_envs.base_env import ActionTuple\n"
   ]
  },
  {
   "cell_type": "code",
   "execution_count": 2,
   "id": "c7f5f0c5-4485-47b5-90c4-4c751bde82bd",
   "metadata": {},
   "outputs": [
    {
     "name": "stdout",
     "output_type": "stream",
     "text": [
      "cpu\n"
     ]
    }
   ],
   "source": [
    "if(torch.cuda.is_available()):\n",
    "    device = torch.device(\"cuda\")\n",
    "    print(device, torch.cuda.get_device_name(0))\n",
    "else:\n",
    "    device= torch.device(\"cpu\")\n",
    "    print(device)"
   ]
  },
  {
   "cell_type": "code",
   "execution_count": 4,
   "id": "df229f2f-cfa8-4ab6-a32c-12448affe128",
   "metadata": {},
   "outputs": [
    {
     "data": {
      "text/plain": [
       "SimpleActor(\n",
       "  (network_body): NetworkBody(\n",
       "    (observation_encoder): ObservationEncoder(\n",
       "      (processors): ModuleList(\n",
       "        (0): VectorInput(\n",
       "          (normalizer): Normalizer()\n",
       "        )\n",
       "      )\n",
       "    )\n",
       "    (processors): ModuleList(\n",
       "      (0): VectorInput(\n",
       "        (normalizer): Normalizer()\n",
       "      )\n",
       "    )\n",
       "    (_body_endoder): LinearEncoder(\n",
       "      (seq_layers): Sequential(\n",
       "        (0): Linear(in_features=8, out_features=128, bias=True)\n",
       "        (1): Swish()\n",
       "        (2): Linear(in_features=128, out_features=128, bias=True)\n",
       "        (3): Swish()\n",
       "      )\n",
       "    )\n",
       "  )\n",
       "  (action_model): ActionModel(\n",
       "    (_continuous_distribution): GaussianDistribution(\n",
       "      (mu): Linear(in_features=128, out_features=2, bias=True)\n",
       "    )\n",
       "  )\n",
       ")"
      ]
     },
     "execution_count": 4,
     "metadata": {},
     "output_type": "execute_result"
    }
   ],
   "source": [
    "fname = \"3DBall-119867.pth\"   \n",
    "#檔名同最後一次train的pth檔\n",
    "MyModel = torch.load(fname)\n",
    "MyModel.eval()\n",
    "MyModel.to(device)"
   ]
  },
  {
   "cell_type": "code",
   "execution_count": 5,
   "id": "7a2de83c",
   "metadata": {},
   "outputs": [],
   "source": [
    "MyEncoder = MyModel.network_body._body_endoder"
   ]
  },
  {
   "cell_type": "code",
   "execution_count": 6,
   "id": "e21e7a50",
   "metadata": {},
   "outputs": [],
   "source": [
    "MyActionModel = MyModel.action_model"
   ]
  },
  {
   "cell_type": "code",
   "execution_count": 7,
   "id": "e9b1dbc0",
   "metadata": {},
   "outputs": [
    {
     "name": "stdout",
     "output_type": "stream",
     "text": [
      "GaussianDistribution(\n",
      "  (mu): Linear(in_features=128, out_features=2, bias=True)\n",
      ")\n"
     ]
    }
   ],
   "source": [
    "distribution = MyActionModel._continuous_distribution\n",
    "print(distribution)"
   ]
  },
  {
   "cell_type": "markdown",
   "id": "891c0b13",
   "metadata": {},
   "source": [
    "# Connect to Unity"
   ]
  },
  {
   "cell_type": "code",
   "execution_count": 57,
   "id": "9d7bba60-0af3-4069-b365-a93c1f460c2d",
   "metadata": {},
   "outputs": [],
   "source": [
    "# Run this line and go to Unity editor to click Play\n",
    "#這一行往下需要到unity按下play\n",
    "env = UnityEnvironment(file_name= None, base_port=5004) \n",
    "env.reset()"
   ]
  },
  {
   "cell_type": "code",
   "execution_count": 58,
   "id": "b5ba9d69",
   "metadata": {},
   "outputs": [
    {
     "name": "stdout",
     "output_type": "stream",
     "text": [
      "3DBall?team=0\n"
     ]
    }
   ],
   "source": [
    "behaviorNames = list(env.behavior_specs.keys())\n",
    "behaviorName = behaviorNames[0]\n",
    "print(behaviorName)"
   ]
  },
  {
   "cell_type": "code",
   "execution_count": 59,
   "id": "1cf70445",
   "metadata": {},
   "outputs": [
    {
     "name": "stdout",
     "output_type": "stream",
     "text": [
      "(1, 8)\n"
     ]
    }
   ],
   "source": [
    "DecisionSteps, TerminalSteps = env.get_steps(behaviorName)\n",
    "s = DecisionSteps.obs[0]\n",
    "print(s.shape)\n",
    "#(??? ,可動作種類)"
   ]
  },
  {
   "cell_type": "code",
   "execution_count": 60,
   "id": "2f015ae3",
   "metadata": {},
   "outputs": [],
   "source": [
    "s = torch.FloatTensor(s).to(device)"
   ]
  },
  {
   "cell_type": "code",
   "execution_count": 61,
   "id": "2e4f7fe0",
   "metadata": {},
   "outputs": [
    {
     "name": "stdout",
     "output_type": "stream",
     "text": [
      "torch.Size([1, 128])\n"
     ]
    }
   ],
   "source": [
    "s1 = MyEncoder(s)\n",
    "print(s1.shape)"
   ]
  },
  {
   "cell_type": "code",
   "execution_count": 62,
   "id": "0cf5a021",
   "metadata": {},
   "outputs": [
    {
     "name": "stdout",
     "output_type": "stream",
     "text": [
      "tensor([[-0.4161,  0.7225]], grad_fn=<AddmmBackward0>) tensor([[0.9107, 0.8885]], grad_fn=<ExpBackward0>)\n"
     ]
    }
   ],
   "source": [
    "print( distribution(s1).mean, distribution(s1).std)"
   ]
  },
  {
   "cell_type": "code",
   "execution_count": 63,
   "id": "88bdbe25",
   "metadata": {},
   "outputs": [
    {
     "name": "stdout",
     "output_type": "stream",
     "text": [
      "tensor([[-0.5948, -0.3757]], grad_fn=<AddBackward0>)\n"
     ]
    }
   ],
   "source": [
    "a = distribution(s1).sample()\n",
    "print(a)"
   ]
  },
  {
   "cell_type": "code",
   "execution_count": 64,
   "id": "5a2b9ba7",
   "metadata": {},
   "outputs": [
    {
     "name": "stdout",
     "output_type": "stream",
     "text": [
      "[[-0.59482473 -0.3756724 ]]\n"
     ]
    }
   ],
   "source": [
    "a = a.cpu().detach().numpy()\n",
    "print(a)"
   ]
  },
  {
   "cell_type": "code",
   "execution_count": 65,
   "id": "690a189b",
   "metadata": {},
   "outputs": [
    {
     "name": "stdout",
     "output_type": "stream",
     "text": [
      "<mlagents_envs.base_env.ActionTuple object at 0x0000027F0B3BF370>\n"
     ]
    }
   ],
   "source": [
    "a = ActionTuple(np.array(a, dtype=np.float32))\n",
    "print(a)"
   ]
  },
  {
   "cell_type": "code",
   "execution_count": 66,
   "id": "97f9b9ae",
   "metadata": {},
   "outputs": [],
   "source": [
    "env.set_actions(behaviorName, a)\n",
    "env.step()"
   ]
  },
  {
   "cell_type": "code",
   "execution_count": 55,
   "id": "7b6c7490",
   "metadata": {},
   "outputs": [
    {
     "data": {
      "text/plain": [
       "array([0.1], dtype=float32)"
      ]
     },
     "execution_count": 55,
     "metadata": {},
     "output_type": "execute_result"
    }
   ],
   "source": [
    "DecisionSteps, TerminalSteps = env.get_steps(behaviorName)\n",
    "DecisionSteps.reward"
   ]
  },
  {
   "cell_type": "code",
   "execution_count": 67,
   "id": "c0246d73",
   "metadata": {},
   "outputs": [],
   "source": [
    "env.close()"
   ]
  },
  {
   "cell_type": "markdown",
   "id": "0145aa81",
   "metadata": {},
   "source": [
    "### Try to change prob."
   ]
  },
  {
   "cell_type": "code",
   "execution_count": 76,
   "id": "aba817a3",
   "metadata": {},
   "outputs": [
    {
     "name": "stdout",
     "output_type": "stream",
     "text": [
      "Normal(loc: 5.0, scale: 0.5)\n"
     ]
    }
   ],
   "source": [
    "from torch.distributions import Normal\n",
    "dist1  = Normal(5, 0.5)\n",
    "print(dist1)"
   ]
  },
  {
   "cell_type": "code",
   "execution_count": 42,
   "id": "f9ea7886",
   "metadata": {},
   "outputs": [
    {
     "name": "stdout",
     "output_type": "stream",
     "text": [
      "tensor(4.6559)\n"
     ]
    }
   ],
   "source": [
    "a = dist1.sample()\n",
    "print(a)"
   ]
  },
  {
   "cell_type": "code",
   "execution_count": 43,
   "id": "1c2854dc",
   "metadata": {},
   "outputs": [
    {
     "name": "stdout",
     "output_type": "stream",
     "text": [
      "[[-0.49471715  0.74056077]] [-0.49471715  0.74056077] -0.49471715\n"
     ]
    }
   ],
   "source": [
    "mean1 = distribution(s1).mean\n",
    "mean1 = mean1.cpu().detach().numpy()\n",
    "print(mean1, mean1[0], mean1[0][0])"
   ]
  },
  {
   "cell_type": "code",
   "execution_count": 44,
   "id": "b4e77659",
   "metadata": {},
   "outputs": [
    {
     "name": "stdout",
     "output_type": "stream",
     "text": [
      "[[0.9107054 0.8885418]] [0.9107054 0.8885418] 0.9107054\n"
     ]
    }
   ],
   "source": [
    "std1 = distribution(s1).std\n",
    "std1 = std1.cpu().detach().numpy()\n",
    "print(std1, std1[0], std1[0][0])"
   ]
  },
  {
   "cell_type": "code",
   "execution_count": 45,
   "id": "f6090b33",
   "metadata": {},
   "outputs": [
    {
     "name": "stdout",
     "output_type": "stream",
     "text": [
      "[[-1.5019490718841553, 2.5863988399505615]]\n"
     ]
    }
   ],
   "source": [
    "m11, m12 = mean1[0][0], mean1[0][1]\n",
    "std11, std12 = std1[0][0], std1[0][1]\n",
    "a11 = float(Normal(m11, std11).sample())\n",
    "a12 = float(Normal(m12, std12).sample())\n",
    "a1 = [[a11, a12]]\n",
    "print(a1)"
   ]
  },
  {
   "cell_type": "code",
   "execution_count": 46,
   "id": "15109545",
   "metadata": {},
   "outputs": [
    {
     "name": "stdout",
     "output_type": "stream",
     "text": [
      "<mlagents_envs.base_env.ActionTuple object at 0x000001E518B5FA60>\n"
     ]
    }
   ],
   "source": [
    "a = ActionTuple(np.array(a1, dtype=np.float32))\n",
    "print(a)"
   ]
  },
  {
   "cell_type": "code",
   "execution_count": 47,
   "id": "2bfcbfe7",
   "metadata": {},
   "outputs": [],
   "source": [
    "env.set_actions(behaviorName, a)\n",
    "env.step()"
   ]
  },
  {
   "cell_type": "code",
   "execution_count": null,
   "id": "7cec3163",
   "metadata": {},
   "outputs": [],
   "source": []
  },
  {
   "cell_type": "code",
   "execution_count": null,
   "id": "a58d7663",
   "metadata": {},
   "outputs": [],
   "source": []
  },
  {
   "cell_type": "code",
   "execution_count": null,
   "id": "2931b868",
   "metadata": {},
   "outputs": [],
   "source": []
  },
  {
   "cell_type": "code",
   "execution_count": null,
   "id": "0cc11b25",
   "metadata": {},
   "outputs": [],
   "source": []
  }
 ],
 "metadata": {
  "kernelspec": {
   "display_name": "Python 3 (ipykernel)",
   "language": "python",
   "name": "python3"
  },
  "language_info": {
   "codemirror_mode": {
    "name": "ipython",
    "version": 3
   },
   "file_extension": ".py",
   "mimetype": "text/x-python",
   "name": "python",
   "nbconvert_exporter": "python",
   "pygments_lexer": "ipython3",
   "version": "3.8.13"
  }
 },
 "nbformat": 4,
 "nbformat_minor": 5
}
