{
 "cells": [
  {
   "cell_type": "code",
   "execution_count": 5,
   "id": "d8f998fa",
   "metadata": {},
   "outputs": [],
   "source": [
    "import pandas as pd\n",
    "import os "
   ]
  },
  {
   "cell_type": "code",
   "execution_count": 8,
   "id": "208d7ff0",
   "metadata": {},
   "outputs": [
    {
     "name": "stdout",
     "output_type": "stream",
     "text": [
      "File P2_heart-rate.csv not found. Skipping...\n",
      "File P3_heart-rate.csv processed.\n",
      "File P4_heart-rate.csv processed.\n",
      "File P5_heart-rate.csv processed.\n",
      "File P6_heart-rate.csv processed.\n",
      "File P7_heart-rate.csv processed.\n",
      "File P8_heart-rate.csv not found. Skipping...\n",
      "File P9_heart-rate.csv processed.\n",
      "File P10_heart-rate.csv not found. Skipping...\n",
      "File P11_heart-rate.csv processed.\n",
      "File P12_heart-rate.csv not found. Skipping...\n",
      "File P13_heart-rate.csv not found. Skipping...\n",
      "File P14_heart-rate.csv not found. Skipping...\n",
      "File P15_heart-rate.csv not found. Skipping...\n",
      "File P16_heart-rate.csv not found. Skipping...\n"
     ]
    }
   ],
   "source": [
    "data = []\n",
    "path = \"C:/Users/like1/OneDrive/桌面\" #路徑\n",
    "file = \"P\"\n",
    "files = [f for f in os.listdir(path) if f.startswith(file)]\n",
    "max_number = len(files)\n",
    "for i in range(1,max_number):\n",
    "    f_name = file+f\"{i}_heart-rate.csv\"    \n",
    "    try:\n",
    "        df = pd.read_csv(os.path.join(path, f_name))\n",
    "        if \"diff\" in df.columns:\n",
    "            df = df.loc[(df[\"diff\"] >= 0.5) | (df[\"diff\"] <= 1)]\n",
    "            data.append(df)\n",
    "            print(f\"File {f_name} processed.\")\n",
    "        df.to_csv(file+f\"{i}heart-rate.sort.csv\", index=False)\n",
    "    except FileNotFoundError:\n",
    "        print(f\"File {f_name} not found. Skipping...\")\n",
    "        continue"
   ]
  },
  {
   "cell_type": "code",
   "execution_count": 7,
   "id": "7113ca14",
   "metadata": {},
   "outputs": [
    {
     "ename": "IndentationError",
     "evalue": "unexpected indent (4226816960.py, line 3)",
     "output_type": "error",
     "traceback": [
      "\u001b[1;36m  Input \u001b[1;32mIn [7]\u001b[1;36m\u001b[0m\n\u001b[1;33m    if \"diff\" in df.columns:\u001b[0m\n\u001b[1;37m    ^\u001b[0m\n\u001b[1;31mIndentationError\u001b[0m\u001b[1;31m:\u001b[0m unexpected indent\n"
     ]
    }
   ],
   "source": [
    "f_name = \"P1_heart-rate.csv\" \n",
    "df = pd.read_csv(os.path.join(path, f_name))\n",
    "    if \"diff\" in df.columns:\n",
    "        df = df.loc[(df[\"diff\"] >= 0.5) & (df[\"diff\"] <= 1)]\n",
    "        data.append(df)\n",
    "        df.to_csv(file+f\"{i}heart-rate.sort.csv\", index=False)"
   ]
  },
  {
   "cell_type": "code",
   "execution_count": null,
   "id": "bd947743",
   "metadata": {},
   "outputs": [],
   "source": []
  }
 ],
 "metadata": {
  "kernelspec": {
   "display_name": "Python 3 (ipykernel)",
   "language": "python",
   "name": "python3"
  },
  "language_info": {
   "codemirror_mode": {
    "name": "ipython",
    "version": 3
   },
   "file_extension": ".py",
   "mimetype": "text/x-python",
   "name": "python",
   "nbconvert_exporter": "python",
   "pygments_lexer": "ipython3",
   "version": "3.8.13"
  }
 },
 "nbformat": 4,
 "nbformat_minor": 5
}
