{
 "cells": [
  {
   "cell_type": "code",
   "execution_count": 1,
   "id": "a35eb0a2",
   "metadata": {},
   "outputs": [],
   "source": [
    "from pptx import Presentation\n",
    "from sklearn.feature_extraction.text import TfidfVectorizer\n",
    "from sklearn.metrics.pairwise import cosine_similarity\n",
    "import difflib"
   ]
  },
  {
   "cell_type": "code",
   "execution_count": 2,
   "id": "652318ce",
   "metadata": {},
   "outputs": [],
   "source": [
    "def only_text(file_path):\n",
    "    prs = Presentation(file_path)\n",
    "    text = ''\n",
    "    for slide in prs.slides:\n",
    "        for shape in slide.shapes:\n",
    "            if hasattr(shape, 'text'):\n",
    "                text += shape.text\n",
    "    return text"
   ]
  },
  {
   "cell_type": "code",
   "execution_count": 3,
   "id": "2ee60b38",
   "metadata": {},
   "outputs": [],
   "source": [
    "def count(text1, text2):\n",
    "    seq = difflib.SequenceMatcher(None, text1, text2)\n",
    "    similarity_ratio = seq.ratio() * 100\n",
    "    return similarity_ratio"
   ]
  },
  {
   "cell_type": "code",
   "execution_count": 4,
   "id": "8c177f06",
   "metadata": {},
   "outputs": [],
   "source": [
    "def find(file_list):\n",
    "    similar_files = []\n",
    "    for i in range(len(file_list)):\n",
    "        for j in range(i+1, len(file_list)):\n",
    "            text1 = only_text(file_list[i])\n",
    "            text2 = only_text(file_list[j])\n",
    "            similarity = count(text1, text2)\n",
    "            if similarity > 80:\n",
    "                similar_files.append((file_list[i], file_list[j], similarity))\n",
    "    return similar_files"
   ]
  },
  {
   "cell_type": "code",
   "execution_count": 5,
   "id": "6da72ed5",
   "metadata": {},
   "outputs": [
    {
     "name": "stdout",
     "output_type": "stream",
     "text": [
      "相似度超過80%的檔案：\n",
      "1121314.pptx 和 1121335.pptx 相似度：83.33%\n"
     ]
    }
   ],
   "source": [
    "file_paths = ['1121314.pptx', '1121318.pptx', '1121335.pptx','1121302.pptx'] \n",
    "\n",
    "similar_files_list = find(file_paths)\n",
    "print(\"相似度超過80%的檔案：\")\n",
    "for files in similar_files_list:\n",
    "    file1, file2, similarity = files\n",
    "    print(f\"{file1} 和 {file2} 相似度：{similarity:.2f}%\")"
   ]
  },
  {
   "cell_type": "code",
   "execution_count": null,
   "id": "f29cb64b",
   "metadata": {},
   "outputs": [],
   "source": []
  }
 ],
 "metadata": {
  "kernelspec": {
   "display_name": "Python 3 (ipykernel)",
   "language": "python",
   "name": "python3"
  },
  "language_info": {
   "codemirror_mode": {
    "name": "ipython",
    "version": 3
   },
   "file_extension": ".py",
   "mimetype": "text/x-python",
   "name": "python",
   "nbconvert_exporter": "python",
   "pygments_lexer": "ipython3",
   "version": "3.8.13"
  }
 },
 "nbformat": 4,
 "nbformat_minor": 5
}
