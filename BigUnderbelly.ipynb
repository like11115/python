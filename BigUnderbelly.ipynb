{
 "cells": [
  {
   "cell_type": "code",
   "execution_count": 19,
   "id": "dfecbec8",
   "metadata": {},
   "outputs": [],
   "source": [
    "import neurokit2 as nk\n",
    "import numpy as np\n",
    "import pandas as pd\n",
    "import matplotlib.pyplot as plt\n",
    "import warnings\n",
    "#警告隱藏\n",
    "warnings.filterwarnings(\"ignore\")"
   ]
  },
  {
   "cell_type": "code",
   "execution_count": 20,
   "id": "95090c9b",
   "metadata": {},
   "outputs": [],
   "source": [
    "#腹之呼吸"
   ]
  },
  {
   "cell_type": "code",
   "execution_count": 21,
   "id": "1e809ce3",
   "metadata": {},
   "outputs": [],
   "source": [
    "data = []\n",
    "for i in range(1, 31):\n",
    "    filename = f\"P1-V{i}.csv\"\n",
    "    data.append(pd.read_csv(filename))\n",
    "rsp_abd = [data[i][\"E : Resp\"] for i in range(30)]\n",
    "#測試用 nk.signal_plot(rsp_abd[0], sampling_rate=16)\n",
    "cleaned_abd = [nk.rsp_clean(rsp_abd[i], sampling_rate=16) for i in range (30)]"
   ]
  },
  {
   "cell_type": "code",
   "execution_count": 22,
   "id": "875bf442",
   "metadata": {},
   "outputs": [],
   "source": [
    "df_list = []\n",
    "peaks_dicts = []\n",
    "for i in range (30):\n",
    "    df, peaks_dict = nk.rsp_peaks(cleaned_abd[i])\n",
    "    df_list.append(df)\n",
    "    peaks_dicts.append(peaks_dict)\n",
    "info = [nk.rsp_fixpeaks(peaks_dict) for peaks_dict in peaks_dicts]\n",
    "formatted = [nk.signal_formatpeaks(info[i], desired_length=len(cleaned_abd[i]),peak_indices=info[i][\"RSP_Peaks\"]) for i in range (30)]\n"
   ]
  },
  {
   "cell_type": "code",
   "execution_count": 23,
   "id": "113d30fb",
   "metadata": {},
   "outputs": [],
   "source": [
    "nk.signal_plot(pd.DataFrame({\"RSP_Raw\":rsp_abd[0], \"RSP_Clean\": cleaned_abd[0]}), sampling_rate=16, subplots=True)\n",
    "Abd_peaks = nk.events_plot(peaks_dicts[0]['RSP_Peaks'], cleaned_abd[0])\n",
    "# Extract rate\n",
    "rsp_abd_rate = nk.rsp_rate(cleaned_abd[0], peaks_dicts[0], sampling_rate=16)\n",
    "\n",
    "# Visualize\n",
    "nk.signal_plot(rsp_abd_rate, sampling_rate=16)\n",
    "plt.ylabel('Breaths Per Minute')\n",
    "\n",
    "rrv = nk.rsp_rrv(rsp_abd_rate, info[0], sampling_rate=16, show=True)\n",
    "#需要看圖片把下面這一行刪掉\n",
    "plt.close('all')"
   ]
  },
  {
   "cell_type": "code",
   "execution_count": 24,
   "id": "7164bf9b",
   "metadata": {},
   "outputs": [],
   "source": [
    "info_list = []\n",
    "event_list = []\n",
    "epochs_list = []\n",
    "df_list2 = []\n",
    "result_list = []\n",
    "for i in range (30):\n",
    "    df, info = nk.bio_process(rsp= data[i][\"E : Resp\"], sampling_rate=16)\n",
    "    df_list2.append(df)\n",
    "    info_list.append(info)\n",
    "    \n",
    "    event = nk.events_find(data[i][\"participant\"], threshold_keep='below')\n",
    "    event_list.append(event)\n",
    "    \n",
    "    epoch = nk.epochs_create(df_list2[i], event_list[i], sampling_rate=16)\n",
    "    epochs_list.append(epoch)"
   ]
  },
  {
   "cell_type": "code",
   "execution_count": 25,
   "id": "2ce1d183",
   "metadata": {},
   "outputs": [
    {
     "name": "stdout",
     "output_type": "stream",
     "text": [
      "幹!epochs_list[22]出錯了，跳過跳過\n",
      "幹!epochs_list[23]出錯了，跳過跳過\n"
     ]
    }
   ],
   "source": [
    "result_list = []\n",
    "for i in range(30):\n",
    "    try:\n",
    "        result = nk.rsp_eventrelated(epochs_list[i])\n",
    "        result_list.append(result)\n",
    "    except:\n",
    "        print(f\"幹!epochs_list[{i}]出錯了，跳過跳過\")"
   ]
  },
  {
   "cell_type": "code",
   "execution_count": 26,
   "id": "4b15ba11",
   "metadata": {},
   "outputs": [],
   "source": [
    "result_df = pd.concat(result_list, axis=0, ignore_index=False)\n",
    "result_df.to_csv(\"P1_腹式呼吸_謝謝冠哲.csv\", index=True)"
   ]
  },
  {
   "cell_type": "code",
   "execution_count": null,
   "id": "d01fb8a0",
   "metadata": {},
   "outputs": [],
   "source": []
  },
  {
   "cell_type": "code",
   "execution_count": null,
   "id": "237be2da",
   "metadata": {},
   "outputs": [],
   "source": []
  }
 ],
 "metadata": {
  "kernelspec": {
   "display_name": "Python 3 (ipykernel)",
   "language": "python",
   "name": "python3"
  },
  "language_info": {
   "codemirror_mode": {
    "name": "ipython",
    "version": 3
   },
   "file_extension": ".py",
   "mimetype": "text/x-python",
   "name": "python",
   "nbconvert_exporter": "python",
   "pygments_lexer": "ipython3",
   "version": "3.8.13"
  }
 },
 "nbformat": 4,
 "nbformat_minor": 5
}
