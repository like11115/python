{
 "cells": [
  {
   "cell_type": "code",
   "execution_count": 35,
   "id": "3a4a9de1",
   "metadata": {},
   "outputs": [
    {
     "name": "stdout",
     "output_type": "stream",
     "text": [
      "輸入負值時結束程式\n",
      "請輸入一個數字:23\n",
      "奇數\n",
      "請輸入一個數字:14\n",
      "偶數\n",
      "請輸入一個數字:-1\n"
     ]
    }
   ],
   "source": [
    "print(\"輸入負值結束\")\n",
    "while True:\n",
    "    OE = input(\"請輸入一個數字:\")\n",
    "    oe=float(OE)\n",
    "    if (oe <0):\n",
    "        break\n",
    "    elif(oe == 0):\n",
    "        print(\"0不是奇數或偶數\")\n",
    "    elif (oe %2 ==1):\n",
    "        print(\"奇數\")\n",
    "    elif (oe %2 ==0):\n",
    "        print(\"偶數\")\n",
    "    \n",
    "\n",
    "    "
   ]
  },
  {
   "cell_type": "markdown",
   "id": "37a6b790",
   "metadata": {},
   "source": []
  }
 ],
 "metadata": {
  "kernelspec": {
   "display_name": "Python 3 (ipykernel)",
   "language": "python",
   "name": "python3"
  },
  "language_info": {
   "codemirror_mode": {
    "name": "ipython",
    "version": 3
   },
   "file_extension": ".py",
   "mimetype": "text/x-python",
   "name": "python",
   "nbconvert_exporter": "python",
   "pygments_lexer": "ipython3",
   "version": "3.8.13"
  }
 },
 "nbformat": 4,
 "nbformat_minor": 5
}
