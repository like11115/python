{
 "cells": [
  {
   "cell_type": "code",
   "execution_count": 16,
   "id": "1d7f6bca",
   "metadata": {},
   "outputs": [
    {
     "name": "stdout",
     "output_type": "stream",
     "text": [
      "你心裡在想什麼？3454657656435\n"
     ]
    }
   ],
   "source": [
    "a=input(\"你心裡在想什麼？\")"
   ]
  },
  {
   "cell_type": "code",
   "execution_count": 17,
   "id": "bdc26cc7",
   "metadata": {},
   "outputs": [
    {
     "name": "stdout",
     "output_type": "stream",
     "text": [
      "你用了13個文字述說內心的想法\n"
     ]
    }
   ],
   "source": [
    "b=len(list(a))\n",
    "print(f\"你用了{b}個文字述說內心的想法\")"
   ]
  }
 ],
 "metadata": {
  "kernelspec": {
   "display_name": "Python 3 (ipykernel)",
   "language": "python",
   "name": "python3"
  },
  "language_info": {
   "codemirror_mode": {
    "name": "ipython",
    "version": 3
   },
   "file_extension": ".py",
   "mimetype": "text/x-python",
   "name": "python",
   "nbconvert_exporter": "python",
   "pygments_lexer": "ipython3",
   "version": "3.8.13"
  }
 },
 "nbformat": 4,
 "nbformat_minor": 5
}
