{
 "cells": [
  {
   "cell_type": "code",
   "execution_count": 16,
   "id": "38fccb17",
   "metadata": {},
   "outputs": [],
   "source": [
    "import random"
   ]
  },
  {
   "cell_type": "code",
   "execution_count": 23,
   "id": "b179f349",
   "metadata": {},
   "outputs": [],
   "source": [
    "a =random.randint(1,50)"
   ]
  },
  {
   "cell_type": "code",
   "execution_count": 26,
   "id": "c781b685",
   "metadata": {},
   "outputs": [
    {
     "name": "stdout",
     "output_type": "stream",
     "text": [
      "3\n",
      "猜個數字?1\n",
      "答錯了!\n",
      "是否繼續(是/否)2\n",
      "我就當你不想玩了\n"
     ]
    }
   ],
   "source": [
    "c=1\n",
    "print(a)\n",
    "while True:\n",
    "    b= input(\"猜個數字?\")\n",
    "    if(int(b)>50):\n",
    "        print(\"錯誤，範圍是1~50\")\n",
    "    elif(int(b)==a):\n",
    "        print(f\"{c}次就答對了\")\n",
    "        break\n",
    "    else:\n",
    "        c=c+1\n",
    "        print(\"答錯了!\")\n",
    "        d=input(\"是否繼續(是/否)\")\n",
    "        if(d==\"否\"):\n",
    "            print(\"掰掰\")\n",
    "            break\n",
    "        elif(d!=\"是\"):\n",
    "            print(\"我就當你不想玩了\")\n",
    "            break\n",
    "    \n",
    "    \n",
    "    "
   ]
  },
  {
   "cell_type": "code",
   "execution_count": null,
   "id": "66aa49a0",
   "metadata": {},
   "outputs": [],
   "source": []
  }
 ],
 "metadata": {
  "kernelspec": {
   "display_name": "Python 3 (ipykernel)",
   "language": "python",
   "name": "python3"
  },
  "language_info": {
   "codemirror_mode": {
    "name": "ipython",
    "version": 3
   },
   "file_extension": ".py",
   "mimetype": "text/x-python",
   "name": "python",
   "nbconvert_exporter": "python",
   "pygments_lexer": "ipython3",
   "version": "3.8.13"
  }
 },
 "nbformat": 4,
 "nbformat_minor": 5
}
