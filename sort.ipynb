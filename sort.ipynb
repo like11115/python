{
 "cells": [
  {
   "cell_type": "code",
   "execution_count": 1,
   "id": "4c7fe56b",
   "metadata": {},
   "outputs": [],
   "source": [
    "import pandas as pd "
   ]
  },
  {
   "cell_type": "code",
   "execution_count": 2,
   "id": "77641272",
   "metadata": {},
   "outputs": [],
   "source": [
    "df = pd.read_excel('correct.xlsx')\n",
    "df2 = pd.read_excel('wrong.xlsx')"
   ]
  },
  {
   "cell_type": "code",
   "execution_count": 3,
   "id": "5837f003",
   "metadata": {},
   "outputs": [],
   "source": [
    "df = df.sort_values(by=['製程代號','產品品號'])\n",
    "df2 = df2.sort_values(by=['製程代號','產品品號'])"
   ]
  },
  {
   "cell_type": "code",
   "execution_count": 4,
   "id": "56e82f01",
   "metadata": {},
   "outputs": [],
   "source": [
    "df.to_excel('correct_sort.xlsx',index = False)\n",
    "df2.to_excel('wrong_sort.xlsx',index = False)"
   ]
  },
  {
   "cell_type": "code",
   "execution_count": null,
   "id": "48f4acb2",
   "metadata": {},
   "outputs": [],
   "source": []
  },
  {
   "cell_type": "code",
   "execution_count": null,
   "id": "e7b6176c",
   "metadata": {
    "scrolled": true
   },
   "outputs": [],
   "source": []
  },
  {
   "cell_type": "code",
   "execution_count": null,
   "id": "98a2c9a3",
   "metadata": {},
   "outputs": [],
   "source": []
  }
 ],
 "metadata": {
  "kernelspec": {
   "display_name": "Python 3 (ipykernel)",
   "language": "python",
   "name": "python3"
  },
  "language_info": {
   "codemirror_mode": {
    "name": "ipython",
    "version": 3
   },
   "file_extension": ".py",
   "mimetype": "text/x-python",
   "name": "python",
   "nbconvert_exporter": "python",
   "pygments_lexer": "ipython3",
   "version": "3.8.13"
  }
 },
 "nbformat": 4,
 "nbformat_minor": 5
}
