{
 "cells": [
  {
   "cell_type": "code",
   "execution_count": null,
   "id": "2ca6c852",
   "metadata": {},
   "outputs": [],
   "source": [
    "import random"
   ]
  },
  {
   "cell_type": "code",
   "execution_count": null,
   "id": "005a510a",
   "metadata": {
    "scrolled": true
   },
   "outputs": [],
   "source": [
    "while True:\n",
    "    b=input(\"你要出什麼?(剪刀/石頭/布)\")\n",
    "    a=random.randint(1,3) \n",
    "    if (b==\"剪刀\"):\n",
    "        if(a==1):\n",
    "            print(\"你出剪刀，電腦出剪刀，平手\")\n",
    "        elif(a==2):\n",
    "            print(\"你出剪刀，電腦出石頭，你輸了\")\n",
    "        elif(a==3):\n",
    "            print(\"你出剪刀，電腦出布，你贏了\")\n",
    "    elif(b==\"石頭\"):\n",
    "        if(a==1):\n",
    "            print(\"你出石頭，電腦出剪刀，你贏了\")\n",
    "        elif(a==2):\n",
    "            print(\"你出石頭，電腦出石頭，平手\")\n",
    "        elif(a==3):\n",
    "            print(\"你出石頭，電腦出布，你輸了\")\n",
    "    elif(b==\"布\"):\n",
    "        if(a==1):\n",
    "            print(\"你出布，電腦出剪刀，你輸了\")\n",
    "        elif(a==2):\n",
    "            print(\"你出布，電腦出石頭，你贏了\")\n",
    "        elif(a==3):\n",
    "            print(\"你出布，電腦出布，平手\")\n",
    "    else:\n",
    "        print(\"錯誤，重新輸入\")"
   ]
  }
 ],
 "metadata": {
  "kernelspec": {
   "display_name": "Python 3 (ipykernel)",
   "language": "python",
   "name": "python3"
  },
  "language_info": {
   "codemirror_mode": {
    "name": "ipython",
    "version": 3
   },
   "file_extension": ".py",
   "mimetype": "text/x-python",
   "name": "python",
   "nbconvert_exporter": "python",
   "pygments_lexer": "ipython3",
   "version": "3.8.13"
  }
 },
 "nbformat": 4,
 "nbformat_minor": 5
}
