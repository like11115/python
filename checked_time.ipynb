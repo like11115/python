{
 "cells": [
  {
   "cell_type": "code",
   "execution_count": 1,
   "id": "8eabdc4a",
   "metadata": {},
   "outputs": [],
   "source": [
    "import numpy as np\n",
    "import pandas as pd\n",
    "from tqdm import tqdm #視覺化進度用\n"
   ]
  },
  {
   "cell_type": "code",
   "execution_count": 2,
   "id": "42f6e909",
   "metadata": {},
   "outputs": [],
   "source": [
    "#  ToSec 1 \n",
    "def time_to_sec(time_str):\n",
    "    h, m, s = map(int, time_str.split(':'))\n",
    "    return h * 3600 + m * 60 + s"
   ]
  },
  {
   "cell_type": "code",
   "execution_count": 3,
   "id": "3c500ed8",
   "metadata": {},
   "outputs": [],
   "source": [
    "#  ToSec 2\n",
    "def convert_time_to_seconds(time):\n",
    "    (h, m, s) = time.split(':')\n",
    "    seconds = int(h) * 3600 + int(m) * 60 + int(s)\n",
    "    return seconds"
   ]
  },
  {
   "cell_type": "code",
   "execution_count": 4,
   "id": "f52bb813",
   "metadata": {},
   "outputs": [],
   "source": [
    "#  without value\n",
    "def check_yield(df):\n",
    "    condition = df['使用人時1'] == '無預計產量，無法計算'\n",
    "    df.loc[df[condition].index, 'exception_message'] = 'No Yield'"
   ]
  },
  {
   "cell_type": "code",
   "execution_count": 20,
   "id": "2e3a0557",
   "metadata": {},
   "outputs": [],
   "source": [
    "\n",
    "# load excel\n",
    "main_excel_path = '12_merged_2.xlsx'\n",
    "main_df = pd.read_excel(main_excel_path, header=0)"
   ]
  },
  {
   "cell_type": "code",
   "execution_count": 21,
   "id": "c6f2c730",
   "metadata": {},
   "outputs": [],
   "source": [
    "# product_code_data = main_df.groupby('產品品號')"
   ]
  },
  {
   "cell_type": "code",
   "execution_count": 22,
   "id": "dd548fb5",
   "metadata": {},
   "outputs": [],
   "source": [
    "#  cheak product name \n",
    "main_df['check_name'] = main_df['製程代號'] + '_' + main_df['產品品號']\n",
    "main_df['exception_message'] = ''\n",
    "\n",
    "check_yield(main_df)"
   ]
  },
  {
   "cell_type": "code",
   "execution_count": null,
   "id": "80f79f04",
   "metadata": {},
   "outputs": [
    {
     "name": "stderr",
     "output_type": "stream",
     "text": [
      " 68%|██████▊   | 13669/20047 [03:07<01:14, 85.71it/s]"
     ]
    }
   ],
   "source": [
    "#  data processing \n",
    "target_df = main_df[main_df['使用人時1'] != '無預計產量，無法計算']\n",
    "#  time threshold that can change \n",
    "time_threshold = 30\n",
    "\n",
    "i_check_name = 'A022_8MT007-C0151-71650-03'\n",
    "\n",
    "check_list = np.unique(target_df['check_name'])\n",
    "for i_check_name in tqdm(check_list):\n",
    "    temp_df = target_df[target_df['check_name'] == i_check_name]\n",
    "    temp_df_copy = temp_df.copy()\n",
    "    temp_df_copy['prodcut_time'] = 0\n",
    "    temp_df_copy['prodcut_time'] = temp_df_copy['使用人時1'].apply(time_to_sec)\n",
    "    \n",
    "    for df_idx in temp_df_copy.index:\n",
    "              \n",
    "        temp_time_diff = temp_df_copy.loc[:, 'prodcut_time'] - temp_df_copy.loc[df_idx, 'prodcut_time']\n",
    "        for time_idx, i_time in enumerate(temp_time_diff):\n",
    "            if np.abs(i_time) == 0:\n",
    "                continue\n",
    "            if np.abs(i_time) >= time_threshold:\n",
    "                main_df_idx = temp_df_copy.index[time_idx]\n",
    "                main_df.loc[df_idx, 'exception_message'] += temp_df_copy.loc[main_df_idx, '單號'] + ', '"
   ]
  },
  {
   "cell_type": "code",
   "execution_count": null,
   "id": "c08ea5ee",
   "metadata": {},
   "outputs": [],
   "source": [
    "#  output\n",
    "final_df = main_df[main_df['exception_message'] != '']\n",
    "final_df2 = main_df[main_df['exception_message'] == '']\n",
    "\n",
    "final_df.to_excel('12_checked_worng.xlsx', index = False)\n",
    "final_df2.to_excel('12_checked_correct.xlsx', index = False)"
   ]
  },
  {
   "cell_type": "code",
   "execution_count": null,
   "id": "e27970f4",
   "metadata": {},
   "outputs": [],
   "source": []
  },
  {
   "cell_type": "code",
   "execution_count": null,
   "id": "a40227ce",
   "metadata": {},
   "outputs": [],
   "source": []
  }
 ],
 "metadata": {
  "kernelspec": {
   "display_name": "Python 3 (ipykernel)",
   "language": "python",
   "name": "python3"
  },
  "language_info": {
   "codemirror_mode": {
    "name": "ipython",
    "version": 3
   },
   "file_extension": ".py",
   "mimetype": "text/x-python",
   "name": "python",
   "nbconvert_exporter": "python",
   "pygments_lexer": "ipython3",
   "version": "3.8.13"
  }
 },
 "nbformat": 4,
 "nbformat_minor": 5
}
