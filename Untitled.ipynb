{
 "cells": [
  {
   "cell_type": "code",
   "execution_count": 4,
   "id": "7ad219d1",
   "metadata": {},
   "outputs": [],
   "source": [
    "import time\n",
    "import os\n",
    "import pyautogui as pag\n",
    "import pyperclip\n",
    "import schedule"
   ]
  },
  {
   "cell_type": "code",
   "execution_count": 2,
   "id": "5fee78cb",
   "metadata": {},
   "outputs": [
    {
     "name": "stdout",
     "output_type": "stream",
     "text": [
      "滑鼠位置現在在\n",
      "position:  529, 159\n",
      "滑鼠位置現在在\n",
      "position:  932, 406\n",
      "滑鼠位置現在在\n",
      "position:  810, 731\n",
      "end!\n"
     ]
    }
   ],
   "source": [
    "try:#測試 類似if判斷但不設條件\n",
    "    while True:#無限執行\n",
    "        print(\"滑鼠位置現在在\")\n",
    "        x,y=pag.position()#滑鼠座標\n",
    "        pos = \"position: \"+str(x).rjust(4)+','+str(y).rjust(4)\n",
    "        print(pos)\n",
    "        time.sleep(2)#延遲幾秒\n",
    "        os.system('clear')#清除結果\n",
    "except KeyboardInterrupt: #手動停止 複製跟停止都是Ctrl-C 時會出現KeyboardInterrupt的錯誤except用於跳過此錯誤\n",
    "    print('獲取完畢!')"
   ]
  },
  {
   "cell_type": "code",
   "execution_count": 5,
   "id": "a744c9d0",
   "metadata": {},
   "outputs": [],
   "source": [
    "def click():\n",
    "    pag.click(1126, 793)\n",
    "    pag.click(1126, 793)\n",
    "    pag.click(1126, 793)"
   ]
  },
  {
   "cell_type": "code",
   "execution_count": 6,
   "id": "fab6c130",
   "metadata": {},
   "outputs": [],
   "source": [
    "def talkToSelf():\n",
    "    global i\n",
    "    i += 1\n",
    "    print(f\"這是我不間斷自己開熱點的第{i}天....殺了我....\")\n",
    "    click()"
   ]
  },
  {
   "cell_type": "code",
   "execution_count": null,
   "id": "b0b6925a",
   "metadata": {},
   "outputs": [],
   "source": [
    "i = 0\n",
    "\n",
    "schedule.every().day.at(\"07:00\").do(talkToSelf)\n",
    "\n",
    "try:\n",
    "    while True:\n",
    "        schedule.run_pending()\n",
    "        time.sleep(2)\n",
    "except KeyboardInterrupt:\n",
    "    print('終於解脫了....!')"
   ]
  }
 ],
 "metadata": {
  "kernelspec": {
   "display_name": "Python 3 (ipykernel)",
   "language": "python",
   "name": "python3"
  },
  "language_info": {
   "codemirror_mode": {
    "name": "ipython",
    "version": 3
   },
   "file_extension": ".py",
   "mimetype": "text/x-python",
   "name": "python",
   "nbconvert_exporter": "python",
   "pygments_lexer": "ipython3",
   "version": "3.8.13"
  }
 },
 "nbformat": 4,
 "nbformat_minor": 5
}
