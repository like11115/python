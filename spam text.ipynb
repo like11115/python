{
 "cells": [
  {
   "cell_type": "code",
   "execution_count": 153,
   "id": "8a5e9267",
   "metadata": {},
   "outputs": [],
   "source": [
    "import time\n",
    "import os\n",
    "import pyautogui as pag\n",
    "import pyperclip"
   ]
  },
  {
   "cell_type": "code",
   "execution_count": 155,
   "id": "d64b2a16",
   "metadata": {
    "scrolled": false
   },
   "outputs": [
    {
     "name": "stdout",
     "output_type": "stream",
     "text": [
      "Press Ctrl-C to end\n",
      "position:  300, 224\n",
      "Press Ctrl-C to end\n",
      "position:  305, 230\n",
      "Press Ctrl-C to end\n",
      "position:  312, 358\n",
      "Press Ctrl-C to end\n",
      "position:  499, 376\n",
      "Press Ctrl-C to end\n",
      "position:  499, 376\n",
      "Press Ctrl-C to end\n",
      "position:  499, 376\n",
      "Press Ctrl-C to end\n",
      "position:  499, 376\n",
      "Press Ctrl-C to end\n",
      "position:  499, 376\n",
      "Press Ctrl-C to end\n",
      "position:  349, 245\n",
      "end!\n"
     ]
    }
   ],
   "source": [
    "try:#測試 類似if判斷但不設條件\n",
    "    while True:#無限執行\n",
    "        print(\"Press Ctrl-C to end\")\n",
    "        x,y=pag.position()#滑鼠座標\n",
    "        pos = \"position: \"+str(x).rjust(4)+','+str(y).rjust(4)\n",
    "        print(pos)\n",
    "        time.sleep(1)#延遲幾秒\n",
    "        os.system('clear')#清除結果\n",
    "except KeyboardInterrupt: #手動停止 複製跟停止都是Ctrl-C 時會出現KeyboardInterrupt的錯誤except用於跳過此錯誤\n",
    "    print('end!')"
   ]
  },
  {
   "cell_type": "code",
   "execution_count": 139,
   "id": "4563992c",
   "metadata": {},
   "outputs": [],
   "source": [
    "content = \"\"\"   \n",
    "哈哈哈哈哈哈\n",
    "\"\"\"#訊息內容用content存"
   ]
  },
  {
   "cell_type": "code",
   "execution_count": 152,
   "id": "720bf355",
   "metadata": {},
   "outputs": [],
   "source": [
    "time.sleep(5)\n",
    "for line in list(content.split(\"\\n\"))*3:\n",
    "    if line:\n",
    "        pyautogui.click(1001, 881)  #滑鼠在座標上點擊\n",
    "        pyperclip.copy(line)    #複製\n",
    "        pyautogui.hotkey(\"ctrl\",\"v\") #貼上\n",
    "        pyautogui.typewrite(\"\\n\")   #傳送\n",
    "        time.sleep(0.1) #間隔"
   ]
  }
 ],
 "metadata": {
  "kernelspec": {
   "display_name": "Python 3 (ipykernel)",
   "language": "python",
   "name": "python3"
  },
  "language_info": {
   "codemirror_mode": {
    "name": "ipython",
    "version": 3
   },
   "file_extension": ".py",
   "mimetype": "text/x-python",
   "name": "python",
   "nbconvert_exporter": "python",
   "pygments_lexer": "ipython3",
   "version": "3.8.13"
  }
 },
 "nbformat": 4,
 "nbformat_minor": 5
}
