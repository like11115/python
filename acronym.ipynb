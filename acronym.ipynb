{
 "cells": [
  {
   "cell_type": "code",
   "execution_count": 15,
   "id": "2fe5960c",
   "metadata": {},
   "outputs": [
    {
     "name": "stdout",
     "output_type": "stream",
     "text": [
      "請輸入英文句子we are the one\n"
     ]
    }
   ],
   "source": [
    "a=input(\"請輸入英文句子\")"
   ]
  },
  {
   "cell_type": "code",
   "execution_count": 26,
   "id": "41e9de45",
   "metadata": {},
   "outputs": [
    {
     "name": "stdout",
     "output_type": "stream",
     "text": [
      "wato\n"
     ]
    }
   ],
   "source": [
    "aa=a.split()#spilt不用[]\n",
    "aaaa=[aaa[0] for aaa in aa]#取aa中第0個字放入aaaa中\n",
    "answer=\"\".join(aaaa)\n",
    "print(answer)"
   ]
  },
  {
   "cell_type": "code",
   "execution_count": null,
   "id": "971fa18e",
   "metadata": {},
   "outputs": [],
   "source": []
  }
 ],
 "metadata": {
  "kernelspec": {
   "display_name": "Python 3 (ipykernel)",
   "language": "python",
   "name": "python3"
  },
  "language_info": {
   "codemirror_mode": {
    "name": "ipython",
    "version": 3
   },
   "file_extension": ".py",
   "mimetype": "text/x-python",
   "name": "python",
   "nbconvert_exporter": "python",
   "pygments_lexer": "ipython3",
   "version": "3.8.13"
  }
 },
 "nbformat": 4,
 "nbformat_minor": 5
}
